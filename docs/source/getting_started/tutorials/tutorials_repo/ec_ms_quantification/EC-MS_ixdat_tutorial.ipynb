{
 "cells": [
  {
   "cell_type": "markdown",
   "id": "25f0ba01",
   "metadata": {},
   "source": [
    "# Ixdat Tutorial - EC-MS\n",
    "\n",
    "\n",
    "This tutorial is to show the most advanced tools to date for ixdat analysis of EC-MS data.\n",
    "\n",
    "It is based on the data analysis done for Spectro Inlets Application Note #2 - Quantification\n",
    "\n",
    "There are three parts:\n",
    "\n",
    "- Importing, plotting and exporting data\n",
    "- Analyzing EC-MS calibrations\n",
    "- Using EC-MS calibrations\n",
    "\n",
    "Before you dive into the tutorial, download the data available at https://zenodo.org/record/8400063 and save it into the same folder as this Jupyter Notebook.\n"
   ]
  },
  {
   "cell_type": "markdown",
   "id": "d5f5f6c6",
   "metadata": {},
   "source": [
    "Importing, plotting, and exporting\n",
    "===========================\n",
    "\n",
    "First, we import and plot the dataset we would like to calibrate. "
   ]
  },
  {
   "cell_type": "code",
   "execution_count": null,
   "id": "514a4247",
   "metadata": {},
   "outputs": [],
   "source": [
    "from ixdat import Measurement\n",
    "\n",
    "meas_zilien = Measurement.read(r\"./2022-07-19 10_02_32 HER_OER_calibration.tsv\", reader=\"zilien\")\n",
    "\n",
    "meas_zilien.plot()"
   ]
  },
  {
   "cell_type": "markdown",
   "id": "9e3257cc",
   "metadata": {},
   "source": [
    "That was a lot. Let's zoom in on an interesting part.\n",
    "\n",
    "Tip: if you're using a backend for matplotlib that returns scalable plots (not Jupyter notebooks), you can easily zoom into your plot to find the timestamps at start and end of the part you find interesting. A left mouse click into the plot will print the time where the mouse is pointing to. A right click at a different point following a left click will print the start and end as well as length of the timespan in between. "
   ]
  },
  {
   "cell_type": "code",
   "execution_count": null,
   "id": "0802eb70",
   "metadata": {},
   "outputs": [],
   "source": [
    "meas_zilien.plot(tspan=[5000, 5750])\n",
    "\n",
    "# help(meas.plot)  # This shows a full list of customization arguments to the plot function"
   ]
  },
  {
   "cell_type": "markdown",
   "id": "3835bd2f",
   "metadata": {},
   "source": [
    "The EC data looks a bit noisy - let's use the EC data as saved by ECLab here instead. First we import the MS data only from the Zilien data file:\n",
    "\n",
    "Note, if you use Zilien vs. 2.6.0 or higher, Zilien will export the same data as saved by ECLab, so this will no longer be necessary."
   ]
  },
  {
   "cell_type": "code",
   "execution_count": null,
   "id": "0f278f86",
   "metadata": {},
   "outputs": [],
   "source": [
    "ms_meas = Measurement.read(r\"./2022-07-19 10_02_32 HER_OER_calibration.tsv\", reader=\"zilien\", technique=\"MS\")\n",
    "ms_meas.replace_series(\"Ewe/V\", None)\n",
    "ms_meas.replace_series(\"I/mA\", None)"
   ]
  },
  {
   "cell_type": "markdown",
   "id": "823eabcf",
   "metadata": {},
   "source": [
    "Then we import the electrochemistry data from the text files exported by ECLab. You can do so either separately and then use the ``+`` operator to add them or use the method ``read_set`` to import and combine all files with a specified suffix in a specified folder + name-prefix. The latter can be a lot more convenient if a number of different EC files should be imported."
   ]
  },
  {
   "cell_type": "code",
   "execution_count": null,
   "id": "6e6a0652",
   "metadata": {},
   "outputs": [],
   "source": [
    "# import separately and add\n",
    "cvs_her_meas = Measurement.read(r\"./HER_OER_calibration_01_01_CVA.mpt\", reader=\"biologic\")\n",
    "cps_her_meas = Measurement.read(r\"./HER_OER_calibration_01_02_CP.mpt\", reader=\"biologic\")\n",
    "cvs_oer_meas = Measurement.read(r\"./HER_OER_calibration_01_03_CVA.mpt\", reader=\"biologic\")\n",
    "cps_oer_meas = Measurement.read(r\"./HER_OER_calibration_01_04_CP.mpt\", reader=\"biologic\")\n",
    "ecdata_meas = cvs_her_meas + cps_her_meas + cvs_oer_meas + cps_oer_meas\n",
    "print(ecdata_meas)\n",
    "\n",
    "# or read and add them all together\n",
    "ecdata_meas = Measurement.read_set(r\".\", suffix=\".mpt\", reader=\"biologic\")\n",
    "print(ecdata_meas)"
   ]
  },
  {
   "cell_type": "markdown",
   "id": "4513801a",
   "metadata": {},
   "source": [
    "As you can see from the measurement names printed above, both options result in the same combined ``ECMeasurement`` object.\n",
    "\n",
    "Finally, we combine EC data with the MS data and plot it again, to check the quality of the EC data."
   ]
  },
  {
   "cell_type": "code",
   "execution_count": null,
   "id": "46c13e0a",
   "metadata": {},
   "outputs": [],
   "source": [
    "meas = ms_meas + ecdata_meas\n",
    "\n",
    "meas.plot()\n",
    "meas.plot(tspan=[5000, 5750])"
   ]
  },
  {
   "cell_type": "markdown",
   "id": "b6f46b12",
   "metadata": {},
   "source": [
    "Now that looks better! Let's export that bit so we can share it with someone without exceeding an attachment limit:"
   ]
  },
  {
   "cell_type": "code",
   "execution_count": null,
   "id": "f8b95352",
   "metadata": {},
   "outputs": [],
   "source": [
    "meas_part = meas.cut(tspan=[5000, 5750])\n",
    "meas_part.export(\"the_good_bit.csv\")"
   ]
  },
  {
   "cell_type": "markdown",
   "id": "bc73d158",
   "metadata": {},
   "source": [
    "ixdat can of course read the files it exports:"
   ]
  },
  {
   "cell_type": "code",
   "execution_count": null,
   "id": "b0325f91",
   "metadata": {},
   "outputs": [],
   "source": [
    "meas_loaded = Measurement.read(\"the_good_bit.csv\", reader=\"ixdat\", technique=\"EC-MS\")\n",
    "\n",
    "meas_loaded.plot_measurement()"
   ]
  },
  {
   "cell_type": "markdown",
   "id": "8824c4cd",
   "metadata": {},
   "source": [
    "Calibrations\n",
    "==========\n",
    "\n",
    "EC-MS calibration\n",
    "-------------------------\n",
    "\n",
    "Now, we analyze EC-MS calibration measurements. The code is taken from here:\n",
    "\n",
    "https://github.com/ScottSoren/pyCOox_public/blob/main/paper_I_fig_S1/paper_I_fig_S1.py"
   ]
  },
  {
   "cell_type": "markdown",
   "id": "8545db14",
   "metadata": {},
   "source": [
    "We know the geometric area of the electrode, so we can normalize the current: it's a 5mm diameter disk, area = 0.196 cm^2\n",
    "We used an RHE reference electrode, so we assume that the potential difference between our reference electrode and the RHE potential is zero. We did not determine the Ohmic drop, but we will assume that it was 0 (even though that is not entirely correct), to demonstrate how we can calibrate for it. "
   ]
  },
  {
   "cell_type": "code",
   "execution_count": null,
   "id": "170e2733",
   "metadata": {},
   "outputs": [],
   "source": [
    "meas.calibrate(RE_vs_RHE=0, A_el=0.196, R_Ohm=0)\n",
    "# select the first hydrogen calibration and plot with calibrated EC data\n",
    "meas.plot(tspan=[0,4900])"
   ]
  },
  {
   "cell_type": "markdown",
   "id": "51a4c808",
   "metadata": {},
   "source": [
    "There is some data here before the hydrogen calibration measurement starts; let's shift t=0 to the right, to when the CPs start."
   ]
  },
  {
   "cell_type": "code",
   "execution_count": null,
   "id": "65753538",
   "metadata": {},
   "outputs": [],
   "source": [
    "meas.tstamp += meas[\"M2\"].t[0] + 1700"
   ]
  },
  {
   "cell_type": "markdown",
   "id": "749d8874",
   "metadata": {},
   "source": [
    "The raw data is easily plotted with the plot_measurement function, which doesn't only create a figure, but also returns\n",
    "a list of three axes for (i) ms, (ii) potential, and (iii) current. See ``help(meas.plot_measurement)`` for customization. \n",
    "\n",
    "We will be adding to these axes later to indicate the timespans used for the calibrations."
   ]
  },
  {
   "cell_type": "code",
   "execution_count": null,
   "id": "68a28593",
   "metadata": {},
   "outputs": [],
   "source": [
    "axes_a = meas.plot_measurement(tspan=(0, 3200))"
   ]
  },
  {
   "cell_type": "markdown",
   "id": "a01b6e5c",
   "metadata": {},
   "source": [
    "Now, this is a standard EC-MS plot, which is in itself not bad. Still, sometimes one might like to change something about it, let's say the size of the axis labels, the position of the legend, or the dimensions of the figure. To do this, we can name the figure by getting it via the first axis, which then allows us to modify the plot like any regular matplotlib plot. This only works if the plot has not been printed yet, so we need to define ``axes_a`` again at the beginning. Let's make the plot wider, as an example:"
   ]
  },
  {
   "cell_type": "code",
   "execution_count": null,
   "id": "49dd450c",
   "metadata": {},
   "outputs": [],
   "source": [
    "axes_a = meas.plot_measurement(tspan=(0, 3200))\n",
    "fig_a = axes_a[0].get_figure()  # name the figure by getting it via the first axis.\n",
    "fig_a.set_figwidth(\n",
    "    fig_a.get_figwidth() * 2.5\n",
    ")  # make it 2.5 times as wide as it is tall"
   ]
  },
  {
   "cell_type": "markdown",
   "id": "f5c1e4ba",
   "metadata": {},
   "source": [
    "Great! Now we're ready to use this data to calibrate for H2 at m/z=2. For this we use the ixdat method ``ecms_calibration_curve``, which automatically selects and integrates M2 signal and electrochemical current in the given timespans. "
   ]
  },
  {
   "cell_type": "code",
   "execution_count": null,
   "id": "3b3cfe7e",
   "metadata": {},
   "outputs": [],
   "source": [
    "# redefine this axis, so we can use it here (since Jupyter doesn't update already printed plots).\n",
    "axes_a = meas.plot_measurement(tspan=(0, 3200), J_name=\"raw_current\") \n",
    "# calculate the calibration factor\n",
    "cal_result_H2, ax_b = meas.ecms_calibration_curve(\n",
    "    mol=\"H2\",\n",
    "    mass=\"M2\",\n",
    "    n_el=-2, # remember to use the correct sign: minus for reduction reactions, plus for oxidation reactions\n",
    "    tspan_list=[(450, 500), (1000, 1050), (1550, 1600), (2200, 2250), (2750, 2800)],  # timespans of H2 evolution\n",
    "    tspan_bg=(0, 100),\n",
    "    ax=\"new\",\n",
    "    axes_measurement=axes_a, # to highlight the integrated areas on the plot defined above\n",
    "    return_ax = True # if True, returns the calibration curve axis as a second element\n",
    ") \n",
    "# NOTE, due to a yet-to-be-resolved issue with coplotting of the integrated current, we are plotting raw current \n",
    "# again here (as specified with \"J_name\" in plot_measurement above)"
   ]
  },
  {
   "cell_type": "markdown",
   "id": "53d6f687",
   "metadata": {},
   "source": [
    "Because we asked for ``return_ax``, two arguments are returned:\n",
    "The first, which we call ``cal_result_H2``, is a ``MSCalResult`` for H2.\n",
    "The second, which we call ``ax_H2``, is the axis where it plots the calibration curve.\n",
    "As we asked for ``axes_measurement``, to be plotted on ``axes_a``, the areas that were integrated are highlighted on that axes.\n",
    "\n",
    "The attribute ``cal_result_H2.F`` is the slope of the calibration curve, which is the sensitivity factor in C/mol.\n",
    "(Note that this calibration_curve works with integrals rather than simply the rates. The latter is not (yet?) implemented in ixdat.)"
   ]
  },
  {
   "cell_type": "code",
   "execution_count": null,
   "id": "f1113630",
   "metadata": {},
   "outputs": [],
   "source": [
    "print(cal_result_H2)  # prints: MSCalResult(name=\"H2@M2\", mol=\"H2\", mass=\"M2\", F=0.34)\n",
    "\n",
    "# This is the first of several MSCalResults, which we will collect in this list:\n",
    "cal_results = [cal_result_H2]\n",
    "\n",
    "# save the figure:\n",
    "fig_b = ax_b.get_figure()\n",
    "fig_b.savefig(\"hydrogen_calibration.png\")  # you can use eg .svg instead for vector graphics."
   ]
  },
  {
   "cell_type": "markdown",
   "id": "7eb9e86c",
   "metadata": {},
   "source": [
    "Tip: instead of selecting the time spans manually, you can also use the option of passing a ``selector_name (str)`` (Name of selector which identifies the periods of steady electrolysis for automatic selection of timespans of steady electrolysis. E.g. ``\"selector\"`` or ``\"Ns\"`` for biologic EC data) and a ``selector_list`` instead of the ``tspan_list``. Note that you need to have information on the different parts of the EC data in your measurement data to take advanatge of this. If you used a Zilien version < 2.6.0 when running the measurement, this requires that you import the EC data from the ECLab using the ``\"biologic\"`` reader, as we did above for ``meas``.\n",
    "\n",
    "First, let's figure out what we should pass to selector list. To this end, we can plot the selector we want to use in our regular EC-MS plot, for example instead of the current: "
   ]
  },
  {
   "cell_type": "code",
   "execution_count": null,
   "id": "e3635d7a",
   "metadata": {},
   "outputs": [],
   "source": [
    "axes_a2 = meas.plot_measurement(tspan=(0, 4700), J_name=\"selector\")"
   ]
  },
  {
   "cell_type": "code",
   "execution_count": null,
   "id": "ec936f7b",
   "metadata": {},
   "outputs": [],
   "source": [
    "# since we want to see a different part of the measurement now, let's shift the tstamp back to the original one\n",
    "meas.tstamp += meas[\"M2\"].t[0]\n",
    "# redefine this axis, so we can use it here (since Jupyter doesn't update already printed plots).\n",
    "axes_a2 = meas.plot_measurement(tspan=(1900, 4700), J_name=\"raw_current\")\n",
    "# calculate the calibration factor\n",
    "cal_result_H2_selector, ax_b2 = meas.ecms_calibration_curve(\n",
    "    mol=\"H2\",\n",
    "    mass=\"M2\",\n",
    "    n_el=-2, # remember to use the correct sign: minus for reduction reactions, plus for oxidation reactions\n",
    "    selector_name=\"selector\",\n",
    "    selector_list=[6,8,10,12,14],  # sections of H2 evolution\n",
    "    tspan_bg=(1800, 1900),\n",
    "    ax=\"new\",\n",
    "    axes_measurement=axes_a2, # to highlight the integrated areas on the plot defined above\n",
    "    return_ax = True # if True, returns the calibration curve axis as a second element\n",
    ")\n",
    "print(cal_result_H2)  # prints: MSCalResult(name=\"H2@M2\", mol=\"H2\", mass=\"M2\", F=0.34)"
   ]
  },
  {
   "cell_type": "markdown",
   "id": "f44699cc",
   "metadata": {},
   "source": [
    "Now, let's do the same for oxygen. First, let's find the right section of the measurement and plot it, so we can find the ``tspan``."
   ]
  },
  {
   "cell_type": "code",
   "execution_count": null,
   "id": "2d61ce7b",
   "metadata": {},
   "outputs": [],
   "source": [
    "meas.plot(tspan=[5800,9100])"
   ]
  },
  {
   "cell_type": "code",
   "execution_count": null,
   "id": "576ba570",
   "metadata": {},
   "outputs": [],
   "source": [
    "# we like changing the time stamp, so let's do this again\n",
    "meas.tstamp += meas[\"M2\"].t[0] + 1700\n",
    "# let's define an axes variable, so we can use it to plot the integrated areas.\n",
    "axes_c = meas.plot_measurement(tspan=(4100, 7400), J_name=\"raw_current\") \n",
    "# calculate the calibration factor\n",
    "cal_result_O2, ax_d= meas.ecms_calibration_curve(\n",
    "    mol=\"O2\",\n",
    "    mass=\"M32\",\n",
    "    n_el=4, # remember to use the correct sign: minus for reduction reactions, plus for oxidation reactions\n",
    "    tspan_list=[(4550, 4600), (5200, 5250), (5750, 5800), (6395, 6445), (6950, 7000)],  # timespans of O2 evolution\n",
    "    tspan_bg=(4150, 4250),\n",
    "    ax=\"new\",\n",
    "    axes_measurement=axes_c, # to highlight the integrated areas on the plot defined above\n",
    "    return_ax = True # if True, returns the calibration curve axis as a second element\n",
    ")"
   ]
  },
  {
   "cell_type": "code",
   "execution_count": null,
   "id": "9d0b0d42",
   "metadata": {},
   "outputs": [],
   "source": [
    "print(cal_result_O2)  # prints: MSCalResult(name=\"O2@M32\", mol=\"O2\", mass=\"M32\", F=0.10)\n",
    "\n",
    "# Let's add this to our list of MSCalResult objects:\n",
    "cal_results.append(cal_result_O2)\n",
    "\n",
    "# save the figure:\n",
    "fig_d = ax_d.get_figure()\n",
    "fig_d.savefig(\"oxygen_calibration.png\")  # you can use eg .svg instead for vector graphics."
   ]
  },
  {
   "cell_type": "markdown",
   "id": "baa8ca47-7b8c-449f-8955-b03b74606ed3",
   "metadata": {},
   "source": [
    "Congratulations! We have now calibrated for hydrogen and oxygen, using electrochemical calibration. However, this approach limits our calibration to those products that we can produce electrochemically with close to 100% faradaic efficiency.\n",
    "Instead, we can take advantage of the gas system of the EC-MS and directly introduce calibration gases to the chip."
   ]
  },
  {
   "cell_type": "markdown",
   "id": "56e2ec5b-bf0d-4b5f-9735-b9779964af42",
   "metadata": {},
   "source": [
    "Gas calibration\n",
    "---------------------\n",
    "\n",
    "Let's first do this for hydrogen and oxygen to compare with the results from the electrochemical gas calibration. \n",
    "\n",
    "First we need to import the data, of course. The Zilien datafile doesn't contain any EC data in this case, which confuses the reader - we therefore specify ``technique=\"MS\"``."
   ]
  },
  {
   "cell_type": "code",
   "execution_count": null,
   "id": "1a10e3f9",
   "metadata": {},
   "outputs": [],
   "source": [
    "meas_gascal_H2 = Measurement.read(r\"./2022-07-20 11_24_43 gas_cal_high_H2.tsv\", reader=\"zilien\", technique=\"MS\")\n",
    "\n",
    "meas_gascal_H2.plot()\n",
    "# We don't need the first 1500s of the measurement, where the signals fluctuate a bit while pumping and flushing the gas lines\n",
    "meas_gascal_H2 = meas_gascal_H2.cut(tspan=[1500, 6000])\n",
    "meas_gascal_H2.plot()"
   ]
  },
  {
   "cell_type": "markdown",
   "id": "854b7f6a",
   "metadata": {},
   "source": [
    "Now, the gas calibration works a bit differently than the EC-MS calibration, as it relies on knowing the flux of molecules into the MS for the inlet used. Therefore, the calibration is not done for a specific measurement, but rather for an ``MSInlet`` object, which requires a slightly different sytnax.\n",
    "\n",
    "Let's first define the inlet object:  ``ixdat``'s default MS inlet is a Spectro Inlets EC-MS chip. The chip object contains information about the inlet, such as it's dimensions, the temperature and pressure, as well as functions for calculating the molar flux of a pure gas (the carrier gas) to the capillary, and for using this flux to calculate a sensitivity factor. \n",
    "\n",
    "(In principle, the chip's capillary size should be calibrated, but this usually only changes the results by a few percent, and is not yet implemented in ixdat.)"
   ]
  },
  {
   "cell_type": "code",
   "execution_count": null,
   "id": "6d4ea570",
   "metadata": {},
   "outputs": [],
   "source": [
    "from ixdat.techniques.ms import MSInlet\n",
    "\n",
    "chip = MSInlet() \n",
    "# chip = MSInlet(T=300, p=20000) #optional: select T (in Kelvin) and p (in Pa); will use 298.15 K and 10000 Pa if not specified"
   ]
  },
  {
   "cell_type": "markdown",
   "id": "d0af6530",
   "metadata": {},
   "source": [
    "Now we can use the method ``gas_flux_calibration_curve`` to do a gas calibration. Note, this method relies on the calculation of the flux of the carrier gas through the capillary and assumes that this flux will not be affected by the change in gas composition due to the analytes. This assumption likely holds as long as the gas concentration is <10% (better <1%), but is ideally only used for small analyte concentrations. A new, more powerful method is in development and will be introduced in a separate tutorial soon. "
   ]
  },
  {
   "cell_type": "code",
   "execution_count": null,
   "id": "66d4c532",
   "metadata": {},
   "outputs": [],
   "source": [
    "axes_e = meas_gascal_H2.plot_measurement()\n",
    "\n",
    "cal_H2_2, ax_f = chip.gas_flux_calibration_curve(\n",
    "    measurement=meas_gascal_H2,  # the measurement with the calibration data\n",
    "    mol=\"H2\",  # the molecule to calibrate\n",
    "    mass=\"M2\",  # the mass to calibrate at\n",
    "    tspan_list=[\n",
    "        [2900, 3100],\n",
    "        [4200, 4400],\n",
    "        [5200, 5500],\n",
    "         ], # the timespans to average the signal over\n",
    "    carrier_mol=\"He\", # the molecule that is used to calculate the total flux through the capillary\n",
    "    mol_conc_ppm=[10000, 50000, 100000], # the concentration of the analyte at the timespans given above in ppm\n",
    "    tspan_bg=[1900, 2000], # the timespan for background subtraction (optional)\n",
    "    return_ax=True, # whether to return the calibration curve\n",
    "    #axes_measurement=axes_e # the axis on which to indicate what signal is used with a thicker line  \n",
    "    #-> this introduces an error into the data analysis (defines that mol_conc_ppm = 10^6) FIXME!! \n",
    ")\n",
    "\n",
    "cal_H2_2.name = \"H2_M2_gas\"  # so that it doesn't clash with the EC-MS calibration.\n",
    "\n",
    "# add these gas calibrations to the list:\n",
    "print(cal_H2_2) \n",
    "cal_results.append(cal_H2_2)"
   ]
  },
  {
   "cell_type": "markdown",
   "id": "8758511d",
   "metadata": {},
   "source": [
    "Great! Now that we know how to do this, we can also do it for our oxygen and ethylene calibrations."
   ]
  },
  {
   "cell_type": "code",
   "execution_count": null,
   "id": "f07040f0",
   "metadata": {},
   "outputs": [],
   "source": [
    "#oxygen\n",
    "meas_gascal_O2 = Measurement.read(r\"./2022-07-20 15_32_25 gas_cal_O2.tsv\", reader=\"zilien\", technique=\"MS\")\n",
    "\n",
    "axes_g = meas_gascal_O2.plot_measurement()\n",
    "\n",
    "cal_O2_2, ax_h = chip.gas_flux_calibration_curve(\n",
    "    measurement=meas_gascal_O2,  # the measurement with the calibration data\n",
    "    mol=\"O2\",  # the molecule to calibrate\n",
    "    mass=\"M32\",  # the mass to calibrate at\n",
    "    tspan_list=[\n",
    "        [2200, 2300],\n",
    "        [3500, 3600],\n",
    "        [4900, 5000],\n",
    "        [6100, 6200],\n",
    "        [7300, 7400],\n",
    "         ], # the timespans to average the signal over\n",
    "    carrier_mol=\"He\", # the molecule that is used to calculate the total flux through the capillary\n",
    "    mol_conc_ppm= [5000, 10000, 20000, 50000, 100000], # the concentration of the analyte at the timespans given above in ppm\n",
    "    tspan_bg=[900, 1000], # the timespan for background subtraction (optional)\n",
    "    return_ax=True, # whether to return the calibration curve\n",
    "    #axes_measurement=axes_g # the axis on which to indicate what signal is used with a thicker line  \n",
    "    #-> this introduces an error into the data analysis (defines that mol_conc_ppm = 10^6) FIXME!! \n",
    ")\n",
    "cal_O2_2.name = \"O2_M32_gas\"  # so that it doesn't clash with the EC-MS calibration.\n",
    "print(cal_O2_2) \n",
    "\n",
    "#ethylene\n",
    "meas_gascal_C2H4 = Measurement.read(r\"./2022-07-20 13_04_48 gas_cal_C2H4.tsv\", reader=\"zilien\", \n",
    "                                 technique=\"MS\")\n",
    "\n",
    "axes_i = meas_gascal_C2H4.plot_measurement()\n",
    "\n",
    "cal_C2H4, ax_j = chip.gas_flux_calibration_curve(\n",
    "    measurement=meas_gascal_C2H4,  # the measurement with the calibration data\n",
    "    mol=\"C2H4\",  # the molecule to calibrate\n",
    "    mass=\"M26\",  # the mass to calibrate at\n",
    "    tspan_list=[\n",
    "        [3200, 3400],\n",
    "        [4400, 4600],\n",
    "        [5800, 6000],\n",
    "        [6900, 7100],\n",
    "        [8000, 8200],\n",
    "         ], # the timespans to average the signal over\n",
    "    carrier_mol=\"He\", # the molecule that is used to calculate the total flux through the capillary\n",
    "    mol_conc_ppm= [5000, 10000, 20000, 50000, 100000], # the concentration of the analyte at the timespans given above in ppm\n",
    "    tspan_bg=[900, 1000], # the timespan for background subtraction (optional)\n",
    "    return_ax=True, # whether to return the calibration curve\n",
    "    #axes_measurement=axes_i # the axis on which to indicate what signal is used with a thicker line  \n",
    "    #-> this introduces an error into the data analysis (defines that mol_conc_ppm = 10^6) FIXME!! \n",
    ")\n",
    "print(cal_C2H4)\n",
    "\n",
    "# add these gas calibrations to the list:\n",
    "cal_results.append(cal_O2_2)\n",
    "cal_results.append(cal_C2H4)\n"
   ]
  },
  {
   "cell_type": "markdown",
   "id": "843aa107",
   "metadata": {},
   "source": [
    "Saving the calibration\n",
    "-------------------------------\n",
    "\n",
    "We might want to use the calibration for other measurements later, so let's create an ``ECMSCalibration`` object and save the calibration."
   ]
  },
  {
   "cell_type": "code",
   "execution_count": null,
   "id": "ca2699d4",
   "metadata": {},
   "outputs": [],
   "source": [
    "from ixdat.techniques.ec_ms import ECMSCalibration\n",
    "\n",
    "# Now we put all these results together in an ECMSCalibration object:\n",
    "calibration = ECMSCalibration(\n",
    "    name=\"SI_quant_appnote_calibration\",  # Named for the article\n",
    "    date=\"22-07-20\",  # date of the calibration measurements\n",
    "    setup=\"SI R&D1\",  # setup where calibration was made\n",
    "    ms_cal_results=cal_results,  # the mass spec calibrations\n",
    "    RE_vs_RHE=0,  # the RE potential in [V]\n",
    "    A_el=0.197,  # the geometric electrode area in [cm^2]\n",
    ")"
   ]
  },
  {
   "cell_type": "markdown",
   "id": "3619ca68-546d-4463-a607-b36bdcb7aa0b",
   "metadata": {},
   "source": [
    "This calibration can then be saved using an in-built method, which creates an automatically named calibration file in the same folder as the Jupyter Notebook: \"SI_quant_appnote_calibration.ix\". This file is human readable, i.e. if you would like to look up sensitivity factors without using ``ixdat`` you can simply open this file in a text editor of your choice."
   ]
  },
  {
   "cell_type": "code",
   "execution_count": null,
   "id": "9a8ec94c",
   "metadata": {},
   "outputs": [],
   "source": [
    "calibration.export()"
   ]
  },
  {
   "cell_type": "markdown",
   "id": "4adb94ba-4165-416b-a44c-87dce19a60cb",
   "metadata": {},
   "source": [
    " Go ahead and have a look at the file before continuing the rest of the tutorial!"
   ]
  },
  {
   "cell_type": "markdown",
   "id": "7debbcf5",
   "metadata": {},
   "source": [
    "Applying a calibration to your dataset\n",
    "------------------------------------------------------\n",
    "\n",
    "In the following we will explore how to apply the EC-MS calibration we determined above to a dataset. There are several ways of how you can pass a calibration to an ``ECMSMeasurement`` objects. We will only address two ways here.\n",
    "\n",
    "Let's start by loading the calibration object that we saved earlier, as well as loading some uncalibrated data and plotting it."
   ]
  },
  {
   "cell_type": "code",
   "execution_count": null,
   "id": "eb29c6de",
   "metadata": {},
   "outputs": [],
   "source": [
    "loaded_cal = ECMSCalibration.read(\n",
    "    \"./SI_quant_appnote_calibration.ix\"\n",
    ")\n",
    "\n",
    "good_bit = Measurement.read(\n",
    "    \"the_good_bit.csv\", reader=\"ixdat\", technique = \"EC-MS\"\n",
    ")\n",
    "good_bit.plot_measurement()"
   ]
  },
  {
   "cell_type": "markdown",
   "id": "77be3511",
   "metadata": {},
   "source": [
    "And apply the calibration on the data:"
   ]
  },
  {
   "cell_type": "code",
   "execution_count": null,
   "id": "8f933f9b",
   "metadata": {},
   "outputs": [],
   "source": [
    "good_bit.add_calibration(loaded_cal)\n",
    "\n",
    "# Check the MS calibration most recently added to the data\n",
    "print(good_bit.calibration_list[0].ms_cal_results)\n",
    "\n",
    "good_bit.plot_measurement()\n",
    "# good_bit.plot() # gives the same output as plot_measurement() here"
   ]
  },
  {
   "cell_type": "markdown",
   "id": "3b94c9d9",
   "metadata": {},
   "source": [
    "As we only provide the calibration for some of the masses, the standard plot is still showing uncalibrated MS data. If we pass the list of molecules where we do have a calibration, then ``plot_measurement()`` will plot the calibrated fluxes instead."
   ]
  },
  {
   "cell_type": "code",
   "execution_count": null,
   "id": "7f75e4d3",
   "metadata": {},
   "outputs": [],
   "source": [
    "good_bit.plot_measurement(mol_list=[\"H2\", \"O2\"])"
   ]
  },
  {
   "cell_type": "markdown",
   "id": "1a16142c",
   "metadata": {},
   "source": [
    "Alternatively, if we calculate the calibration factors in the same ``ixdat`` session as our data treatment, we can also directly apply the calibration without having to create the calibration object first. In this way, we can also make sure that we use a specific calibration factor if we have determined several for one analyte."
   ]
  },
  {
   "cell_type": "code",
   "execution_count": null,
   "id": "31e37d20",
   "metadata": {},
   "outputs": [],
   "source": [
    "# Lets import the file again, so we can be sure there's no calibration attached yet\n",
    "good_bit2 = Measurement.read(\n",
    "    \"the_good_bit.csv\", reader=\"ixdat\", technique=\"EC-MS\"\n",
    ")\n",
    "# Add the EC calibration first\n",
    "good_bit2.calibrate(RE_vs_RHE=0, A_el=0.197)\n",
    "\n",
    "# Let's check what MS calibrations we have saved in our list\n",
    "print(cal_results)"
   ]
  },
  {
   "cell_type": "code",
   "execution_count": null,
   "id": "04270f65",
   "metadata": {},
   "outputs": [],
   "source": [
    "# Let's calibrate using the EC-MS calibration for hydrogen and the gas calibration for oxygen\n",
    "good_bit2.calibrate(ms_cal_results=[cal_results[0], cal_results[3]])\n",
    "\n",
    "# Check the calibration most recently added to the data\n",
    "print(good_bit2.calibration_list[0].ms_cal_results)\n",
    "\n",
    "# And plot it once again:\n",
    "good_bit2.plot_measurement(mol_list=[\"H2\", \"O2\"])"
   ]
  },
  {
   "cell_type": "markdown",
   "id": "dc46d770",
   "metadata": {},
   "source": [
    "Plotting calibrated EC-MS data\n",
    "=========================\n",
    "\n",
    "Now that we've calibrated the data, we want to make some nice plots. In the sections below, we will explore some ways of using ixdat's plotter and modify the plots using matplotlib."
   ]
  },
  {
   "cell_type": "markdown",
   "id": "c66d3613",
   "metadata": {},
   "source": [
    "EC-MS plot calibrated gases using two y axes\n",
    "-----------------------------------------------------------------"
   ]
  },
  {
   "cell_type": "code",
   "execution_count": null,
   "id": "d7335c18",
   "metadata": {},
   "outputs": [],
   "source": [
    "meas_a = good_bit.cut(tspan=[5035, 5200]) #cut the data to the interesting section\n",
    "meas_a.tstamp += meas_a.t[0]  #to get the figure showing the time starting at 0\n",
    "\n",
    "axes_a = meas_a.plot_measurement(\n",
    "    mol_lists=[\n",
    "        [\"H2\"],  # left y-axis\n",
    "        [\"O2\"],  # right\n",
    "    ],\n",
    "    tspan_bg=[\n",
    "        None,\n",
    "        [0, 20],\n",
    "    ],  # [left, right] y-axes\n",
    "    unit=[\"nmol/s\", \"pmol/s/cm^2\"],  # [left, right] y-axes\n",
    "    logplot=False,\n",
    "    legend=False, # e.g. if you want to add labels to the figure manually later\n",
    ")\n",
    "axes_a[0].set_ylabel(\"cal. sig. / [nmol s$^{-1}$]\")\n",
    "axes_a[2].set_ylabel(\"cal. sig. / [pmol s$^{-1}$cm$^{-2}$]\")\n",
    "\n",
    "fig_a = axes_a[0].get_figure()\n",
    "fig_a.savefig(\"fig_a.png\")"
   ]
  },
  {
   "cell_type": "markdown",
   "id": "ef2e8faa",
   "metadata": {},
   "source": [
    " --- Cyclic voltammetry MS plot of two of the cycles ---"
   ]
  },
  {
   "cell_type": "code",
   "execution_count": null,
   "id": "8d56ff17",
   "metadata": {},
   "outputs": [],
   "source": [
    "meas_b = good_bit.as_cv() #by defining it as cv, meas_b.plot() would automatically plot vs potential\n",
    "#as soon as it's CV you can index by \"cycle\"\n",
    "meas_b.redefine_cycle(start_potential=0.4, redox=1)\n",
    "#now you can choose where a cycle starts, here defined as potential = 0.4, anodic/oxidizing = 1 (or True), cathodic/reducing = 0 (or False)\n",
    "#probably the syntax is inspired by biologic data, but it actually has nothing to do with the old biologic data\n",
    "#initial cycle is 0, first time the set condition is met, starts cycle 1 etc.\n",
    "\n",
    "axes_b = meas_b[1].plot_vs_potential(\n",
    "    mol_list=[\"H2\", \"O2\"],\n",
    "    unit=\"pmol/s/cm^2\",\n",
    "    logplot=False,\n",
    "    legend=False,\n",
    "    remove_background=True, #should remove the minimum value from the cut dataset, but it is possible somewhere to actually \n",
    "    # the background (possibly where you define the dataset)\n",
    ")\n",
    "meas_b[3].plot_vs_potential(\n",
    "    mol_list=[\"H2\", \"O2\"],\n",
    "    unit=\"pmol/s/cm^2\",\n",
    "    logplot=False,\n",
    "    legend=False,\n",
    "    remove_background=True,\n",
    "    axes=axes_b, #to reuse the axis for co-plotting two separate parts of the measurement\n",
    "    linestyle=\"--\",\n",
    ")\n",
    "axes_b[0].set_ylabel(\"cal. sig. / [pmol s$^{-1}$cm$^{-2}$]\")\n",
    "axes_b[0].set_xlabel(meas_b.U_name)\n",
    "\n",
    "fig_b = axes_b[0].get_figure()\n",
    "fig_b.savefig(\"fig_b.png\")"
   ]
  },
  {
   "cell_type": "markdown",
   "id": "7d96e728",
   "metadata": {},
   "source": [
    "EC-MS plot with carrier gases on right y-axis (uncalibrated) and products on left (calibrated)\n",
    "-----------------------------------------------------------------------------------------------------------------------------------\n",
    "Note that it is possible to mix calibrated and uncalibrated data by calling the plotting function twice. This enables one to plot the uncalibrated carrier gas signal  on one y-axis (which may carry information about how the experiment was done even if it is not itself quantified) and the product signal on the other y-axis. It is even possible to plot the data on a logarithmic scale on one axis, and a linear scale on the other axis, as shown below."
   ]
  },
  {
   "cell_type": "code",
   "execution_count": null,
   "id": "8d78e6cf",
   "metadata": {},
   "outputs": [],
   "source": [
    "meas_c = good_bit.cut(tspan=[5035, 5200])\n",
    "meas_c.tstamp += meas_c.t[0]\n",
    "\n",
    "meas_c.set_bg(\n",
    "   tspan_bg=[0, 20], mass_list=[\"M2\", \"M32\"]\n",
    ")\n",
    "\n",
    "axes_c = meas_c.plot_measurement(\n",
    "    mol_lists=[[], [\"H2\", \"O2\"]], # right y-axis\n",
    "    unit=\"pmol/s\",\n",
    "    logplot=False,\n",
    "    legend=False,\n",
    ")\n",
    "meas_c.plot_measurement(\n",
    "   mass_list=[\"M4\", \"M28\", \"M40\"],  # left y-axis\n",
    "    #unit=[\"nmol/s\"],  # [left, right] y-axes\n",
    "    logplot=True,\n",
    "    legend=False,\n",
    "    axes=axes_c, #to reuse the axis for co-plotting two separate parts of the measurement\n",
    "    #linestyle=\"--\",\n",
    ")\n",
    "axes_c[2].set_ylabel(\"cal. sig. / [pmol s$^{-1}$]\")\n",
    "\n",
    "fig_c = axes_c[0].get_figure()\n",
    "fig_c.savefig(\"fig_c.png\")"
   ]
  },
  {
   "cell_type": "markdown",
   "id": "99c13a58",
   "metadata": {},
   "source": [
    "EC-MS plot with a third with system parameters added\n",
    "-----------------------------------------------------------------------------\n",
    "\n",
    "In some cases it can be interesting to co-plot some other data, e.g. system parameters like iongauge pressure or MFC flow rates. Let's have a look at the iongauge pressure during one of the CV cycles and plot that in a third panel of our regular EC-MS plots."
   ]
  },
  {
   "cell_type": "code",
   "execution_count": null,
   "id": "b50a135c",
   "metadata": {
    "scrolled": true
   },
   "outputs": [],
   "source": [
    "from matplotlib import pyplot as plt\n",
    "from matplotlib import gridspec\n",
    "\n",
    "# since we want to co-plot system parameters here, which were not part of the exported dataset, we need to use another version\n",
    "# of our dataset # imported above, which hasn't been calibrated yet, so let's quickly calibrate that now\n",
    "meas_part.add_calibration(loaded_cal)\n",
    "\n",
    "\n",
    "# cut the relevant part from a big dataset\n",
    "meas_d = meas_part.cut(tspan=[5035, 5200])\n",
    "\n",
    "# grab the iongauge pressure\n",
    "ig1 = meas_d.grab(\"Iongauge value [mbar]\")\n",
    "\n",
    "# create a figure with 3 panels\n",
    "fig_4 = plt.figure()\n",
    "gs = gridspec.GridSpec(7, 1, fig_4)\n",
    "ax_ms = plt.subplot(gs[0:3, 0]) # MS signals panel\n",
    "ax_ms_right = ax_ms.twinx()     # right axis for the MS signals, not used here\n",
    "ax_ec = plt.subplot(gs[3:5, 0]) # EC signals panel\n",
    "ax_ec_right = ax_ec.twinx()     # axis for the current\n",
    "ax_ig= plt.subplot(gs[5:7, 0]) # Ion Gauge panel\n",
    "fig_4.set_figheight(7)\n",
    "fig_4.set_figwidth(fig_4.get_figheight() * 1.25)\n",
    "\n",
    "ax_ms.tick_params(\n",
    "    axis=\"x\", top=True, bottom=True, labeltop=True, labelbottom=False\n",
    ")\n",
    "ax_ec.tick_params(\n",
    "    axis=\"x\", top=True, bottom=True, labeltop=False, labelbottom=False\n",
    ")\n",
    "ax_ig.tick_params(\n",
    "    axis=\"x\", top=True, bottom=True, labeltop=False, labelbottom=True\n",
    ")\n",
    "\n",
    "ax_ms.set_xlabel(\"time / [s]\")\n",
    "ax_ms.xaxis.set_label_position(\"top\")\n",
    "\n",
    "ax_ig.set_xlabel(\"time / [s]\")\n",
    "ax_ig.set_ylabel(\"IG pressure / [mbar]\")\n",
    "ax_ms.set_ylabel(\"Signal / [A]\")\n",
    "ax_ms.set_yscale(\"log\")\n",
    "\n",
    "\n",
    "ax_ec.set_ylabel(\"U$_{RHE}$ / (V)\")\n",
    "ax_ec_right.set_ylabel(\"J$_{total}$ / (mA cm$^{-2}$)\", color=\"red\")\n",
    "\n",
    "\n",
    "# add the MS and EC data to the correct axes using ixdat's \"plot measurement\"\n",
    "meas_d.plot_measurement(axes=[ax_ms, ax_ec, ax_ms_right, ax_ec_right])\n",
    "# this overwrites some of the axis labels, so we need to define them (again) if we want them non-standard\n",
    "ax_ec.set_xlabel(\"\")\n",
    "ax_ec_right.set_xlabel(\"\")\n",
    "\n",
    "# add the iongauge data from the \"grabbed\" data series\n",
    "ax_ig.plot(ig1[0], ig1[1])"
   ]
  },
  {
   "cell_type": "markdown",
   "id": "bea62a08",
   "metadata": {},
   "source": [
    "Congratulations! You have reached the end of this tutorial and are now an expert in loading, calibrating and plotting EC-MS data using ``ixdat``."
   ]
  },
  {
   "cell_type": "code",
   "execution_count": null,
   "id": "a09c5c6e-575a-42c0-a802-786936e52ab6",
   "metadata": {},
   "outputs": [],
   "source": []
  }
 ],
 "metadata": {
  "kernelspec": {
   "display_name": "Python 3 (ipykernel)",
   "language": "python",
   "name": "python3"
  },
  "language_info": {
   "codemirror_mode": {
    "name": "ipython",
    "version": 3
   },
   "file_extension": ".py",
   "mimetype": "text/x-python",
   "name": "python",
   "nbconvert_exporter": "python",
   "pygments_lexer": "ipython3",
   "version": "3.11.4"
  }
 },
 "nbformat": 4,
 "nbformat_minor": 5
}
