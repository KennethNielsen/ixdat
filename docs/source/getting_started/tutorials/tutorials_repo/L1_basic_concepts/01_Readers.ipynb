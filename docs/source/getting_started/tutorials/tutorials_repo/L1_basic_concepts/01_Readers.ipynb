{
 "cells": [
  {
   "cell_type": "markdown",
   "id": "3eb7939c",
   "metadata": {},
   "source": [
    "ixdat readers\n",
    "--------------\n",
    "\n",
    "To \"open a file\" with ixdat, we use a Reader. The easiest way to do this is by using `Measurement.read()` and `Spectrum.read()`. (Here we will focus on `Measurement` and save `Spectrum` for a seperate tutorial.) \n",
    "\n",
    "You can also read from a url, using `Measurement.read_url()` or read and append multiple data files using `Measurement.read_set()`. \n",
    "\n"
   ]
  },
  {
   "cell_type": "markdown",
   "id": "0d5ee2a0",
   "metadata": {},
   "source": []
  }
 ],
 "metadata": {
  "kernelspec": {
   "display_name": "Python 3 (ipykernel)",
   "language": "python",
   "name": "python3"
  },
  "language_info": {
   "codemirror_mode": {
    "name": "ipython",
    "version": 3
   },
   "file_extension": ".py",
   "mimetype": "text/x-python",
   "name": "python",
   "nbconvert_exporter": "python",
   "pygments_lexer": "ipython3",
   "version": "3.9.13"
  }
 },
 "nbformat": 4,
 "nbformat_minor": 5
}
