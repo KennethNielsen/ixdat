{
 "cells": [
  {
   "cell_type": "markdown",
   "id": "478af9e6",
   "metadata": {},
   "source": [
    "Spectroelectrochemistry with ixdat\n",
    "=============================\n",
    "The data\n",
    "------------\n"
   ]
  },
  {
   "cell_type": "code",
   "execution_count": null,
   "id": "6d1625f4",
   "metadata": {},
   "outputs": [],
   "source": [
    "from pathlib import Path\n",
    "\n",
    "data_dir = Path.home() / \"Dropbox/ixdat_resources/test_data/sec\"\n",
    "\n",
    "print(\"data directory containes files and folders:\")\n",
    "for path in data_dir.iterdir():\n",
    "    print(path)"
   ]
  },
  {
   "cell_type": "markdown",
   "id": "709b7a5b",
   "metadata": {},
   "source": [
    "SEC while scanning potential\n",
    "------------------------------------------"
   ]
  },
  {
   "cell_type": "code",
   "execution_count": null,
   "id": "042f71d2",
   "metadata": {},
   "outputs": [],
   "source": [
    "from ixdat import Measurement\n",
    "\n",
    "sec = Measurement.read(\n",
    "    data_dir / \"test-7SEC.csv\",\n",
    "    path_to_ref_spec_file = data_dir / \"WL.csv\",\n",
    "    path_to_U_J_file = data_dir / \"test-7_JV.csv\",\n",
    "    scan_rate=1,\n",
    "    tstamp=1,\n",
    "    reader=\"msrh_sec\"\n",
    ")"
   ]
  },
  {
   "cell_type": "code",
   "execution_count": null,
   "id": "6938dda5",
   "metadata": {},
   "outputs": [],
   "source": [
    "sec.plot_measurement()"
   ]
  },
  {
   "cell_type": "markdown",
   "id": "d48c081c",
   "metadata": {},
   "source": [
    "The raw data as numpy arrays is accessible as such:"
   ]
  },
  {
   "cell_type": "code",
   "execution_count": null,
   "id": "340d5a14",
   "metadata": {},
   "outputs": [],
   "source": [
    "wavelength = sec.wavelength.data\n",
    "absorption_matrix = sec.spectra.data\n",
    "potential = sec.potential.data\n",
    "\n",
    "print(\"wavelength:\")\n",
    "print(wavelength)\n",
    "\n",
    "print(\"potential:\")\n",
    "print(potential)\n",
    "\n",
    "print(\"absorption:\")\n",
    "print(absorption_matrix)\n"
   ]
  },
  {
   "cell_type": "code",
   "execution_count": null,
   "id": "937dc3d9",
   "metadata": {},
   "outputs": [],
   "source": [
    "sec.calibrate_RE(RE_vs_RHE=0.26)\n",
    "sec.normalize_current(A_el=1)\n",
    "sec.plot_measurement(make_colorbar=True)"
   ]
  },
  {
   "cell_type": "code",
   "execution_count": null,
   "id": "6cbd43f7",
   "metadata": {},
   "outputs": [],
   "source": [
    "sec.plot_waterfall()"
   ]
  },
  {
   "cell_type": "code",
   "execution_count": null,
   "id": "45bdcc00",
   "metadata": {},
   "outputs": [],
   "source": [
    "sec.reference_spectrum.plot()"
   ]
  },
  {
   "cell_type": "code",
   "execution_count": null,
   "id": "f9a7d1c2",
   "metadata": {},
   "outputs": [],
   "source": [
    "sec.set_reference_spectrum(V_ref=0.66)\n",
    "sec.reference_spectrum.plot()"
   ]
  },
  {
   "cell_type": "code",
   "execution_count": null,
   "id": "69378faa",
   "metadata": {},
   "outputs": [],
   "source": [
    "help(sec)\n",
    "print(sec.calc_dOD().data)\n",
    "sec.plot_waterfall()\n"
   ]
  },
  {
   "cell_type": "code",
   "execution_count": null,
   "id": "34477f49",
   "metadata": {},
   "outputs": [],
   "source": [
    "axes = sec.plot_measurement(cmap_name=\"jet\")\n",
    "axes[0].set_xlabel(\"time / [s]\")"
   ]
  },
  {
   "cell_type": "code",
   "execution_count": null,
   "id": "c29a2350",
   "metadata": {},
   "outputs": [],
   "source": [
    "sec.plot_vs_potential()"
   ]
  },
  {
   "cell_type": "code",
   "execution_count": null,
   "id": "a39501b6",
   "metadata": {},
   "outputs": [],
   "source": [
    "sec.plot_vs_potential(cmap_name=\"jet\")\n",
    "\n",
    "axes = sec.plot_vs_potential(cmap_name=\"jet\", vspan=[1.0, 1.45], make_colorbar=True, color=\"g\")\n",
    "axes[1].set_ylim([0, 0.1])"
   ]
  },
  {
   "cell_type": "code",
   "execution_count": null,
   "id": "5eca3ea6",
   "metadata": {},
   "outputs": [],
   "source": [
    "sec.plot_wavelengths(wavelengths=[\"w800\", \"w580\"])"
   ]
  },
  {
   "cell_type": "code",
   "execution_count": null,
   "id": "9e9da0a7",
   "metadata": {},
   "outputs": [],
   "source": [
    "sec.plot_wavelengths_vs_potential(wavelengths=[\"w800\", \"w580\", \"w480\"])"
   ]
  },
  {
   "cell_type": "code",
   "execution_count": null,
   "id": "ef25a4df",
   "metadata": {},
   "outputs": [],
   "source": [
    "spec_1 = sec.get_spectrum(V=1.0)\n",
    "\n",
    "ax = spec_1.plot(color=\"r\", label=\"1.0 V vs RHE\")\n",
    "sec.reference_spectrum.plot(ax=ax, label=\"reference\")\n",
    "ax.legend()"
   ]
  },
  {
   "cell_type": "code",
   "execution_count": null,
   "id": "dd4b98a8",
   "metadata": {},
   "outputs": [],
   "source": [
    "spec_1 = sec.get_dOD_spectrum(V=1.0, V_ref=0.66)\n",
    "spec_1.plot()"
   ]
  },
  {
   "cell_type": "code",
   "execution_count": null,
   "id": "cd93c076",
   "metadata": {},
   "outputs": [],
   "source": [
    "ax = sec.get_dOD_spectrum(V=1.0, V_ref=0.66).plot(color=\"b\", label=\"species 1\")\n",
    "sec.get_dOD_spectrum(V=1.4, V_ref=1.0).plot(color=\"g\", label=\"species 2\", ax=ax)\n",
    "sec.get_dOD_spectrum(V=1.7, V_ref=1.4).plot(color=\"r\", label=\"species 3\", ax=ax)\n",
    "ax.legend()"
   ]
  },
  {
   "cell_type": "code",
   "execution_count": null,
   "id": "ba6ab7e1",
   "metadata": {},
   "outputs": [],
   "source": [
    "sec.export(data_dir / \"sec_export.csv\")\n",
    "\n",
    "print(sec.reference_spectrum.name)"
   ]
  },
  {
   "cell_type": "code",
   "execution_count": null,
   "id": "35deb143",
   "metadata": {},
   "outputs": [],
   "source": [
    "\n",
    "\n",
    "sec_reloaded = Measurement.read(data_dir / \"sec_export.csv\", reader=\"ixdat\")\n",
    "\n",
    "sec_reloaded.set_reference_spectrum(V_ref=0.66)\n",
    "\n",
    "sec_reloaded.plot_vs_potential(cmap_name=\"jet\")"
   ]
  },
  {
   "cell_type": "code",
   "execution_count": null,
   "id": "84176fa3",
   "metadata": {},
   "outputs": [],
   "source": [
    "[(s.name, s.shape) for s in sec_reloaded.series_list]\n",
    "\n"
   ]
  },
  {
   "cell_type": "markdown",
   "id": "9b900823",
   "metadata": {},
   "source": [
    "Open-circuit potential decay\n",
    "----------------------------------------"
   ]
  },
  {
   "cell_type": "code",
   "execution_count": null,
   "id": "1afba5e7",
   "metadata": {},
   "outputs": [],
   "source": [
    "sec_decay = Measurement.read(\n",
    "    data_dir / \"decay/PDtest-1.35-1OSP-SP.csv\",\n",
    "    path_to_ref_spec_file=data_dir / \"WL.csv\",\n",
    "    path_to_t_U_file=data_dir / \"decay/PDtest-1.35-1OSP-E-t.csv\",\n",
    "    path_to_t_J_file=data_dir / \"decay/PDtest-1.35-1OSP-J-t.csv\",\n",
    "    tstamp=1,\n",
    "    reader=\"msrh_sec_decay\",\n",
    ")"
   ]
  },
  {
   "cell_type": "code",
   "execution_count": null,
   "id": "6e1d2824",
   "metadata": {},
   "outputs": [],
   "source": [
    "sec_decay.plot_measurement()"
   ]
  },
  {
   "cell_type": "code",
   "execution_count": null,
   "id": "7680f4d7",
   "metadata": {},
   "outputs": [],
   "source": [
    "sec_decay.calibrate_RE(RE_vs_RHE=0.26)\n",
    "sec_decay.set_reference_spectrum(t_ref=5)\n",
    "sec_decay.plot_measurement(cmap_name=\"jet\")"
   ]
  },
  {
   "cell_type": "code",
   "execution_count": null,
   "id": "fc648acb",
   "metadata": {},
   "outputs": [],
   "source": [
    "sec_decay.plot_wavelengths(wavelengths=[\"w480\", \"w600\", \"w850\"])"
   ]
  },
  {
   "cell_type": "code",
   "execution_count": null,
   "id": "cc77fe7f",
   "metadata": {},
   "outputs": [],
   "source": [
    "sec_decay.export(data_dir / \"sec_decay_export.csv\")"
   ]
  },
  {
   "cell_type": "markdown",
   "id": "aeb90cfc",
   "metadata": {},
   "source": [
    "The End\n",
    "------------"
   ]
  }
 ],
 "metadata": {
  "kernelspec": {
   "display_name": "Python 3 (ipykernel)",
   "language": "python",
   "name": "python3"
  },
  "language_info": {
   "codemirror_mode": {
    "name": "ipython",
    "version": 3
   },
   "file_extension": ".py",
   "mimetype": "text/x-python",
   "name": "python",
   "nbconvert_exporter": "python",
   "pygments_lexer": "ipython3",
   "version": "3.9.13"
  }
 },
 "nbformat": 4,
 "nbformat_minor": 5
}
