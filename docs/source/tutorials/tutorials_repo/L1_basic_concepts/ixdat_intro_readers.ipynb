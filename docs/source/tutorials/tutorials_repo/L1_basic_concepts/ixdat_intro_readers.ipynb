{
 "cells": [
  {
   "cell_type": "markdown",
   "id": "3eb7939c",
   "metadata": {},
   "source": [
    "Tutorial: `ixdat` readers\n",
    "===================\n",
    "\n",
    "To \"load a file\" with ixdat, we use a Reader. The easiest way to do this is by using `Measurement.read()` and `Spectrum.read()`.\n",
    "\n",
    "Ixdat's pluggable design means that once data is read in, it is equally useful wherever it is read in from. I.e., if you do the same electrochemistry experiment on two different potentiostats with different file formats, the only part of your code that needs to change is the specification of the reader.\n",
    "\n",
    "You can also read from a url, using `Measurement.read_url()` or read and append multiple data files using `Measurement.read_set()`. \n",
    "\n",
    "Measurements\n",
    "------------\n",
    "\n",
    "In ixdat, a \"Measurement\" involves data resolved in time (even if you're not used to thinking of it that way - for example cyclic voltammetry data is often thought of as current vs potential, but can also be considered current and potential both as functions of time). \n",
    "\n",
    "The full list of measurement readers available can be viewed as follows:"
   ]
  },
  {
   "cell_type": "code",
   "execution_count": 1,
   "id": "bd73e4aa",
   "metadata": {},
   "outputs": [
    {
     "name": "stdout",
     "output_type": "stream",
     "text": [
      "importing ixdat v0.2.7.dev1 from C:\\Users\\Søren\\git\\ixdat\\src\\ixdat\\__init__.py\n",
      "ixdat:\t\t<class 'ixdat.readers.ixdat_csv.IxdatCSVReader'>\n",
      "ixdat_spectrum:\t\t<class 'ixdat.readers.ixdat_csv.IxdatSpectrumReader'>\n",
      "biologic:\t\t<class 'ixdat.readers.biologic.BiologicMPTReader'>\n",
      "avantage:\t\t<class 'ixdat.readers.avantage.AvantageAVGReader'>\n",
      "autolab:\t\t<class 'ixdat.readers.autolab.NovaASCIIReader'>\n",
      "ivium:\t\t<class 'ixdat.readers.ivium.IviumDatasetReader'>\n",
      "chi:\t\t<class 'ixdat.readers.chi.CHInstrumentsTXTReader'>\n",
      "pfeiffer:\t\t<class 'ixdat.readers.pfeiffer.PVMassSpecReader'>\n",
      "rgasoft:\t\t<class 'ixdat.readers.rgasoft.StanfordRGASoftReader'>\n",
      "cinfdata:\t\t<class 'ixdat.readers.cinfdata.CinfdataTXTReader'>\n",
      "cinfdata_db:\t\t<class 'ixdat.readers.cinfdata_db.CinfdataDBReader'>\n",
      "zilien:\t\t<class 'ixdat.readers.zilien.ZilienTSVReader'>\n",
      "zilien_tmp:\t\t<class 'ixdat.readers.zilien.ZilienTMPReader'>\n",
      "zilien_spec:\t\t<class 'ixdat.readers.zilien.ZilienSpectrumReader'>\n",
      "EC_MS:\t\t<class 'ixdat.readers.ec_ms_pkl.EC_MS_CONVERTER'>\n",
      "msrh_sec:\t\t<class 'ixdat.readers.msrh_sec.MsrhSECReader'>\n",
      "msrh_sec_decay:\t\t<class 'ixdat.readers.msrh_sec.MsrhSECDecayReader'>\n",
      "xrdml:\t\t<class 'ixdat.readers.xrdml.XRDMLReader'>\n",
      "qexafs:\t\t<class 'ixdat.readers.qexafs.QexafsDATReader'>\n"
     ]
    }
   ],
   "source": [
    "from ixdat.readers import READER_CLASSES\n",
    "\n",
    "for reader_name, Reader in READER_CLASSES.items():\n",
    "    print(reader_name + \":\\t\\t\" + str(Reader))"
   ]
  },
  {
   "cell_type": "markdown",
   "id": "4caa81fe",
   "metadata": {},
   "source": [
    "The above readers can all be used via `Measurement.read`, with the name give as the `reader` argument. For example:\n",
    "\n",
    "```\n",
    "from ixdat import Measurement\n",
    "\n",
    "ec = Measurement.read(\"my_biologic_data.mpt\", reader=\".mpt\")\n",
    "ec.plot()   # everything in ixdat comes in ready-to-plot :) \n",
    "```"
   ]
  },
  {
   "cell_type": "markdown",
   "id": "f3d5972f",
   "metadata": {},
   "source": [
    "using `Path`\n",
    "----------\n",
    "\n",
    "The first argument to `read` is the file specification. It is the path to the data file including the suffix. If the data is in the same folder, the file name with suffix suffices, but if it is a different folder, the full path or relative path needs to be specified. It can be a string or a `Path` object of the [pathlib](https://docs.python.org/3/library/pathlib.html) package. We recommend the use of `pathlib`. For example:\n",
    "\n",
    "```\n",
    "from pathlib import Path()\n",
    "from ixdat import Measurement\n",
    "\n",
    "data_dir = Path.home() / \"Documents/project/experiment\"\n",
    "ec = Measurement.read(data_dir / \"my_biologic_data.mpt\", reader=\".mpt\")\n",
    "ec.plot()\n",
    "```\n",
    "\n",
    "spectra\n",
    "--------\n",
    "\n",
    "Before ixdat version 0.2.7, the readers of `Spectrum` data (such as \"xrdml\") are grouped together with the readers of `Measurement` data. As of ixdat 0.2.7, the readers of `Spectrum` data are listed separately, in `SPECTRUM_READER_CLASSES`:"
   ]
  },
  {
   "cell_type": "code",
   "execution_count": 2,
   "id": "ee234417",
   "metadata": {},
   "outputs": [
    {
     "name": "stdout",
     "output_type": "stream",
     "text": [
      "Upgrade to ixdat 0.2.7 or higher (when available)\n"
     ]
    }
   ],
   "source": [
    "try:\n",
    "    from ixdat.readers import SPECTRUM_READER_CLASSES\n",
    "except ImportError:\n",
    "    print(\"Upgrade to ixdat 0.2.7 or higher (when available)\")\n",
    "else:\n",
    "    for reader_name, Reader in SPECTRUM_READER_CLASSES.items():\n",
    "        print(reader_name + \":\\t\\t\" + str(Reader))"
   ]
  },
  {
   "cell_type": "markdown",
   "id": "370110e3",
   "metadata": {},
   "source": [
    "Either way, spectra can be read in using `Spectrum.read` with the reader specified the same way as for measurements. For example:\n",
    "\n",
    "```\n",
    "from ixdat import Spectrum\n",
    "\n",
    "xrd = Spectrum.read(my_xrd_data.xrdml, reader=\"xrdml\")\n",
    "xrd.plot()\n",
    "```"
   ]
  },
  {
   "cell_type": "markdown",
   "id": "644e7f76",
   "metadata": {},
   "source": [
    "Advanced\n",
    "---------\n",
    "If you need to make the use of the reader class itself, you can also import and initiate it explicitly. For example:\n",
    "```\n",
    "from ixdat.readers.biologic import BiologicMPTReader\n",
    "\n",
    "my_reader = BiologicMPTReader()\n",
    "ec = my_reader.read(\"my_biologic_data.mpt\")\n",
    "```\n",
    "\n",
    "We plan to demonstrate details and quirks of each reader in jupyter notebook tutorials in the near future. For now, you can see each reader demonstrated in a .py file in the main ixdat github repository here:\n",
    "\n",
    "https://github.com/ixdat/ixdat/tree/main/development_scripts/reader_demonstrators"
   ]
  }
 ],
 "metadata": {
  "kernelspec": {
   "display_name": "Python 3 (ipykernel)",
   "language": "python",
   "name": "python3"
  },
  "language_info": {
   "codemirror_mode": {
    "name": "ipython",
    "version": 3
   },
   "file_extension": ".py",
   "mimetype": "text/x-python",
   "name": "python",
   "nbconvert_exporter": "python",
   "pygments_lexer": "ipython3",
   "version": "3.11.5"
  }
 },
 "nbformat": 4,
 "nbformat_minor": 5
}
